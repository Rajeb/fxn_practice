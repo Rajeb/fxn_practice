{
 "cells": [
  {
   "cell_type": "code",
   "execution_count": 1,
   "metadata": {},
   "outputs": [
    {
     "name": "stdout",
     "output_type": "stream",
     "text": [
      "         Company Employees\n",
      "0       TechCorp     Alice\n",
      "0       TechCorp       Bob\n",
      "0       TechCorp   Charlie\n",
      "1  Speedster Inc     David\n",
      "1  Speedster Inc      Emma\n"
     ]
    }
   ],
   "source": [
    "import pandas as pd\n",
    "\n",
    "\n",
    "\n",
    "# Create a simple sample dataset\n",
    "df = pd.DataFrame({'Company': ['TechCorp', 'Speedster Inc'], \n",
    "                   'Employees': [['Alice', 'Bob', 'Charlie'], ['David', 'Emma']]})\n",
    "\n",
    "# Use the explode function to convert the \"Employees\" column into multiple rows\n",
    "df_explode = df.explode('Employees')\n",
    "\n",
    "# Display the transformed DataFrame\n",
    "print(df_explode)"
   ]
  },
  {
   "cell_type": "code",
   "execution_count": 3,
   "metadata": {},
   "outputs": [
    {
     "name": "stdout",
     "output_type": "stream",
     "text": [
      "         Company              Employees\n",
      "0  Speedster Inc          [David, Emma]\n",
      "1       TechCorp  [Alice, Bob, Charlie]\n"
     ]
    }
   ],
   "source": [
    "## opposite of explode is implode but can be done by groupby and aggregate func\n",
    "df_impolde = df_explode.groupby('Company', as_index=False).agg(lambda x: x.to_list())\n",
    "print(df_impolde)"
   ]
  },
  {
   "cell_type": "code",
   "execution_count": 4,
   "metadata": {},
   "outputs": [
    {
     "name": "stdout",
     "output_type": "stream",
     "text": [
      "    company Branch Office Type Branch Office Name\n",
      "0  CompanyA    branch_office_1           New York\n",
      "1  CompanyB    branch_office_1        Los Angeles\n",
      "2  CompanyA    branch_office_2      San Francisco\n",
      "3  CompanyB    branch_office_2            Chicago\n",
      "4  CompanyA    branch_office_3            Seattle\n",
      "5  CompanyB    branch_office_3            Houston\n"
     ]
    }
   ],
   "source": [
    "# melt function : wide format data to long format\n",
    "# Create sample data\n",
    "data = {'company': ['CompanyA', 'CompanyB'], \n",
    "        'branch_office_1': ['New York', 'Los Angeles'], \n",
    "        'branch_office_2': ['San Francisco', 'Chicago'], \n",
    "        'branch_office_3': ['Seattle', 'Houston']}\n",
    "df = pd.DataFrame(data)\n",
    "\n",
    "# Use the melt function to reshape the DataFrame\n",
    "df_melt = df.melt(id_vars='company', \n",
    "                  value_vars=['branch_office_1', 'branch_office_2', 'branch_office_3'], \n",
    "                  var_name='Branch Office Type', \n",
    "                  value_name='Branch Office Name')\n",
    "\n",
    "# Display the reshaped DataFrame\n",
    "print(df_melt)"
   ]
  },
  {
   "cell_type": "code",
   "execution_count": 5,
   "metadata": {},
   "outputs": [
    {
     "name": "stdout",
     "output_type": "stream",
     "text": [
      "product        laptop  phone  tablet  watch\n",
      "customer_name                              \n",
      "Alice             2.0    NaN     3.0    NaN\n",
      "Bob               NaN    1.0     NaN    4.0\n"
     ]
    }
   ],
   "source": [
    "## pivot_table function\n",
    "# Create sample data\n",
    "data = {'customer_name': ['Alice', 'Bob', 'Alice', 'Bob'], \n",
    "        'product': ['laptop', 'phone', 'tablet', 'watch'], \n",
    "        'quantity': [2, 1, 3, 4]}\n",
    "df = pd.DataFrame(data)\n",
    "\n",
    "# Use the pivot_table function to create a pivot table\n",
    "df_pivot_table = df.pivot_table(index='customer_name', \n",
    "                                columns='product', \n",
    "                                values='quantity', \n",
    "                                aggfunc='sum')\n",
    "\n",
    "# Display the pivot table\n",
    "print(df_pivot_table)"
   ]
  },
  {
   "cell_type": "code",
   "execution_count": 7,
   "metadata": {},
   "outputs": [
    {
     "name": "stdout",
     "output_type": "stream",
     "text": [
      "customer_name  product\n",
      "Alice          laptop     2.0\n",
      "               tablet     3.0\n",
      "Bob            phone      1.0\n",
      "               watch      4.0\n",
      "dtype: float64\n",
      "product        laptop  phone  tablet  watch\n",
      "customer_name                              \n",
      "Alice             2.0    NaN     3.0    NaN\n",
      "Bob               NaN    1.0     NaN    4.0\n"
     ]
    }
   ],
   "source": [
    "#stack() function\n",
    "# Use the stack function to reshape the pivot table ( reshapes a df by moving the innermost column labels to become the innermost row labels)\n",
    "df_stack = df_pivot_table.stack()\n",
    "\n",
    "# Display the reshaped DataFrame\n",
    "print(df_stack)\n",
    "\n",
    "# Use the unstack function to reshape the stacked table\n",
    "df_unstack = df_stack.unstack()\n",
    "\n",
    "# Display the DataFrame\n",
    "print(df_unstack)"
   ]
  },
  {
   "cell_type": "code",
   "execution_count": 9,
   "metadata": {},
   "outputs": [
    {
     "name": "stdout",
     "output_type": "stream",
     "text": [
      "   Gender Nationality Age Group\n",
      "0    Male         USA     20-29\n",
      "1  Female          UK     20-29\n",
      "2  Female          UK     30-39\n",
      "3    Male         USA     30-39\n",
      "4  Female          UK     20-29\n",
      "5    Male         USA     30-39\n",
      "6  Female         USA     30-39\n",
      "+---------------------+------+-------+-------+\n",
      "|                     |   UK |   USA |   All |\n",
      "+=====================+======+=======+=======+\n",
      "| ('Female', '20-29') |    2 |     0 |     2 |\n",
      "+---------------------+------+-------+-------+\n",
      "| ('Female', '30-39') |    1 |     1 |     2 |\n",
      "+---------------------+------+-------+-------+\n",
      "| ('Male', '20-29')   |    0 |     1 |     1 |\n",
      "+---------------------+------+-------+-------+\n",
      "| ('Male', '30-39')   |    0 |     2 |     2 |\n",
      "+---------------------+------+-------+-------+\n",
      "| ('All', '')         |    3 |     4 |     7 |\n",
      "+---------------------+------+-------+-------+\n"
     ]
    }
   ],
   "source": [
    "# crosstab() function\n",
    "\n",
    "# The crosstab function is used to compute a simple cross-tabulation (frequency table) of two or more factors. It is a special case of pivot_table.\n",
    "# import pandas as pd\n",
    "from tabulate import tabulate\n",
    "\n",
    "# Sample data\n",
    "data = {\n",
    "    \"Gender\": [\"Male\", \"Female\", \"Female\", \"Male\", \"Female\", \"Male\", \"Female\"],\n",
    "    \"Nationality\": [\"USA\", \"UK\", \"UK\", \"USA\", \"UK\", \"USA\", \"USA\"],\n",
    "    \"Age Group\": [\"20-29\", \"20-29\", \"30-39\", \"30-39\", \"20-29\", \"30-39\", \"30-39\"]\n",
    "}\n",
    "\n",
    "# Create a DataFrame\n",
    "df = pd.DataFrame(data)\n",
    "print(df)\n",
    "\n",
    "# Generate a cross-tabulation table using crosstab\n",
    "crosstab_result = pd.crosstab([df[\"Gender\"], df[\"Age Group\"]], df[\"Nationality\"], margins=True)\n",
    "\n",
    "# Display the result using tabulate\n",
    "print(tabulate(crosstab_result, headers=\"keys\", tablefmt=\"grid\"))"
   ]
  },
  {
   "cell_type": "code",
   "execution_count": 10,
   "metadata": {},
   "outputs": [
    {
     "name": "stdout",
     "output_type": "stream",
     "text": [
      "Original DataFrame:\n",
      "      name    group  salary\n",
      "0    Alice  group_a   50000\n",
      "1      Bob  group_a   60000\n",
      "2  Charlie  group_b   70000\n",
      "3    David  group_b   80000\n",
      "4      Eve  group_a   55000\n",
      "5    Frank  group_b   75000\n",
      "\n",
      "DataFrame with Salary Increase:\n",
      "      name    group  salary  new_salary\n",
      "0    Alice  group_a   50000     52500.0\n",
      "1      Bob  group_a   60000     63000.0\n",
      "2  Charlie  group_b   70000     73500.0\n",
      "3    David  group_b   80000     84000.0\n",
      "4      Eve  group_a   55000     57750.0\n",
      "5    Frank  group_b   75000     78750.0\n"
     ]
    }
   ],
   "source": [
    "# map() function\n",
    "\n",
    "# Apply a function to each element of the DataFrame, mainly used for element-wise function application.\n",
    "\n",
    "\n",
    "# Create sample data\n",
    "data = {'name': ['Alice', 'Bob', 'Charlie', 'David', 'Eve', 'Frank'],\n",
    "        'group': ['group_a', 'group_a', 'group_b', 'group_b', 'group_a', 'group_b'],\n",
    "        'salary': [50000, 60000, 70000, 80000, 55000, 75000]}\n",
    "df = pd.DataFrame(data)\n",
    "\n",
    "# Display the original DataFrame\n",
    "print(\"Original DataFrame:\")\n",
    "print(df)\n",
    "\n",
    "# Calculate a 5% salary increase using the map function\n",
    "df['new_salary'] = df['salary'].map(lambda x: x * 1.05)\n",
    "\n",
    "# Display the updated DataFrame\n",
    "print(\"\\nDataFrame with Salary Increase:\")\n",
    "print(df)"
   ]
  },
  {
   "cell_type": "code",
   "execution_count": 11,
   "metadata": {},
   "outputs": [
    {
     "name": "stdout",
     "output_type": "stream",
     "text": [
      "+----+---------+--------------+-----------------+-----------------+-----------------+\n",
      "|    | Name    |   Math Score |   English Score |   Science Score |   Average Score |\n",
      "+====+=========+==============+=================+=================+=================+\n",
      "|  0 | Harris  |           85 |              78 |              90 |         84.3333 |\n",
      "+----+---------+--------------+-----------------+-----------------+-----------------+\n",
      "|  1 | George  |           92 |              95 |              88 |         91.6667 |\n",
      "+----+---------+--------------+-----------------+-----------------+-----------------+\n",
      "|  2 | Charlie |           88 |              82 |              85 |         85      |\n",
      "+----+---------+--------------+-----------------+-----------------+-----------------+\n",
      "|  3 | David   |           70 |              65 |              72 |         69      |\n",
      "+----+---------+--------------+-----------------+-----------------+-----------------+\n"
     ]
    }
   ],
   "source": [
    "# apply() function\n",
    "\n",
    "# Apply a function to the data in a DataFrame, either along rows or columns.\n",
    "from tabulate import tabulate\n",
    "\n",
    "# Sample data for the DataFrame\n",
    "data = {\n",
    "    \"Name\": [\"Harris\", \"George\", \"Charlie\", \"David\"],\n",
    "    \"Math Score\": [85, 92, 88, 70],\n",
    "    \"English Score\": [78, 95, 82, 65],\n",
    "    \"Science Score\": [90, 88, 85, 72]\n",
    "}\n",
    "\n",
    "# Create a DataFrame\n",
    "df = pd.DataFrame(data)\n",
    "\n",
    "# Define a function to calculate the average score for each row\n",
    "def calculate_average(row):\n",
    "    return (row[\"Math Score\"] + row[\"English Score\"] + row[\"Science Score\"]) / 3\n",
    "\n",
    "# Apply the function to each row in the DataFrame and create a new column\n",
    "df[\"Average Score\"] = df.apply(calculate_average, axis=1)\n",
    "\n",
    "# Display the DataFrame using tabulate\n",
    "print(tabulate(df, headers=\"keys\", tablefmt=\"grid\"))"
   ]
  },
  {
   "cell_type": "code",
   "execution_count": null,
   "metadata": {},
   "outputs": [],
   "source": [
    "# eval() function\n",
    "\n",
    "# Designed for efficient column-wise operations on a DataFrame, it enables faster computations and simplifies chained operations.\n"
   ]
  },
  {
   "cell_type": "code",
   "execution_count": 13,
   "metadata": {},
   "outputs": [
    {
     "name": "stdout",
     "output_type": "stream",
     "text": [
      "   price  rolling_avg\n",
      "0     90          NaN\n",
      "1     43          NaN\n",
      "2     93    75.333333\n",
      "3     16    50.666667\n",
      "4     53    54.000000\n",
      "5     53    40.666667\n",
      "6     75    60.333333\n",
      "7     68    65.333333\n",
      "8     68    70.333333\n",
      "9     10    48.666667\n"
     ]
    }
   ],
   "source": [
    "# rolling() function\n",
    "\n",
    "# Provides rolling window calculations, commonly used in time series data analysis, such as rolling averages, rolling standard deviations, etc.\n",
    "# Create sample data with random prices\n",
    "import numpy as np\n",
    "df = pd.DataFrame({'price': np.random.randint(10, 100, size=10)})\n",
    "\n",
    "# Calculate the rolling average with a window of 3\n",
    "df['rolling_avg'] = df['price'].rolling(window=3).mean()\n",
    "\n",
    "# Display the DataFrame\n",
    "print(df)"
   ]
  }
 ],
 "metadata": {
  "kernelspec": {
   "display_name": "base",
   "language": "python",
   "name": "python3"
  },
  "language_info": {
   "codemirror_mode": {
    "name": "ipython",
    "version": 3
   },
   "file_extension": ".py",
   "mimetype": "text/x-python",
   "name": "python",
   "nbconvert_exporter": "python",
   "pygments_lexer": "ipython3",
   "version": "3.11.7"
  }
 },
 "nbformat": 4,
 "nbformat_minor": 2
}
