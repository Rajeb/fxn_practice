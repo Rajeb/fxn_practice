{
 "cells": [
  {
   "cell_type": "code",
   "execution_count": 1,
   "metadata": {},
   "outputs": [
    {
     "name": "stdout",
     "output_type": "stream",
     "text": [
      "         Company Employees\n",
      "0       TechCorp     Alice\n",
      "0       TechCorp       Bob\n",
      "0       TechCorp   Charlie\n",
      "1  Speedster Inc     David\n",
      "1  Speedster Inc      Emma\n"
     ]
    }
   ],
   "source": [
    "import pandas as pd\n",
    "\n",
    "\n",
    "\n",
    "# Create a simple sample dataset\n",
    "df = pd.DataFrame({'Company': ['TechCorp', 'Speedster Inc'], \n",
    "                   'Employees': [['Alice', 'Bob', 'Charlie'], ['David', 'Emma']]})\n",
    "\n",
    "# Use the explode function to convert the \"Employees\" column into multiple rows\n",
    "df_explode = df.explode('Employees')\n",
    "\n",
    "# Display the transformed DataFrame\n",
    "print(df_explode)"
   ]
  },
  {
   "cell_type": "code",
   "execution_count": 3,
   "metadata": {},
   "outputs": [
    {
     "name": "stdout",
     "output_type": "stream",
     "text": [
      "         Company              Employees\n",
      "0  Speedster Inc          [David, Emma]\n",
      "1       TechCorp  [Alice, Bob, Charlie]\n"
     ]
    }
   ],
   "source": [
    "## opposite of explode is implode but can be done by groupby and aggregate func\n",
    "df_impolde = df_explode.groupby('Company', as_index=False).agg(lambda x: x.to_list())\n",
    "print(df_impolde)"
   ]
  },
  {
   "cell_type": "code",
   "execution_count": null,
   "metadata": {},
   "outputs": [],
   "source": []
  }
 ],
 "metadata": {
  "kernelspec": {
   "display_name": "base",
   "language": "python",
   "name": "python3"
  },
  "language_info": {
   "codemirror_mode": {
    "name": "ipython",
    "version": 3
   },
   "file_extension": ".py",
   "mimetype": "text/x-python",
   "name": "python",
   "nbconvert_exporter": "python",
   "pygments_lexer": "ipython3",
   "version": "3.11.7"
  }
 },
 "nbformat": 4,
 "nbformat_minor": 2
}
